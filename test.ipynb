{
 "cells": [
  {
   "cell_type": "code",
   "execution_count": 1,
   "metadata": {},
   "outputs": [],
   "source": [
    "from ply_loader import load_gaussian_splat_ply, load_lidar_pointcloud_ply, compare_gaussian_splat_to_lidar"
   ]
  },
  {
   "cell_type": "code",
   "execution_count": 2,
   "metadata": {},
   "outputs": [],
   "source": [
    "lidar_path = '/mnt/d/School/Research/ICIP_2025/Lidar/chair/pointcloud-01-000.ply'\n",
    "gaussian_all_path = '/mnt/d/School/Research/ICIP_2025/RGB-IR/chair/chair-light-30000/point_cloud/iteration_30000/point_cloud.ply'\n",
    "gaussian_rgb_path = '/mnt/d/School/Research/ICIP_2025/RGB-IR/chair/chair-light-RGB-30000/point_cloud/iteration_30000/point_cloud.ply'"
   ]
  },
  {
   "cell_type": "code",
   "execution_count": 3,
   "metadata": {},
   "outputs": [],
   "source": [
    "try:\n",
    "    # Load and visualize the data\n",
    "    positions, covariances, scales, rotations, opacities = load_gaussian_splat_ply(gaussian_all_path)\n",
    "    positions2, covariances2, scales2, rotations2, opacities2 = load_gaussian_splat_ply(gaussian_rgb_path)\n",
    "    points, intensities = load_lidar_pointcloud_ply(lidar_path)\n",
    "\n",
    "except Exception as e:\n",
    "        print(f\"Error processing PLY files: {str(e)}\")"
   ]
  },
  {
   "cell_type": "code",
   "execution_count": 4,
   "metadata": {},
   "outputs": [
    {
     "name": "stdout",
     "output_type": "stream",
     "text": [
      "Loaded 1089684 Gaussians and 1513959 LiDAR points\n"
     ]
    }
   ],
   "source": [
    "print(f\"Loaded {len(positions)} Gaussians and {len(points)} LiDAR points\")"
   ]
  },
  {
   "cell_type": "code",
   "execution_count": 5,
   "metadata": {},
   "outputs": [
    {
     "name": "stdout",
     "output_type": "stream",
     "text": [
      "Calculating Optimal Transport\n",
      "\tConverting gaussian to probability field\n",
      "\tNormalizing point cloud\n",
      "\tCalculating Wasserstein distance\n",
      "It.  |Err         \n",
      "-------------------\n",
      "    0|9.700963e-02|\n",
      "optimal_transport distance: 0.8864601069598147\n"
     ]
    },
    {
     "name": "stderr",
     "output_type": "stream",
     "text": [
      "/home/kyle/anaconda3/envs/cv/lib/python3.11/site-packages/ot/bregman/_sinkhorn.py:624: RuntimeWarning: divide by zero encountered in divide\n",
      "  Kp = (1 / a).reshape(-1, 1) * K\n"
     ]
    },
    {
     "name": "stdout",
     "output_type": "stream",
     "text": [
      "Calculating chamfer distance\n"
     ]
    },
    {
     "ename": "MemoryError",
     "evalue": "Unable to allocate 995. GiB for an array with shape (365358, 365358) and data type float64",
     "output_type": "error",
     "traceback": [
      "\u001b[0;31m---------------------------------------------------------------------------\u001b[0m",
      "\u001b[0;31mMemoryError\u001b[0m                               Traceback (most recent call last)",
      "Cell \u001b[0;32mIn[5], line 5\u001b[0m\n\u001b[1;32m      3\u001b[0m distances_all \u001b[38;5;241m=\u001b[39m []\n\u001b[1;32m      4\u001b[0m \u001b[38;5;28;01mfor\u001b[39;00m metric \u001b[38;5;129;01min\u001b[39;00m metrics:\n\u001b[0;32m----> 5\u001b[0m     distance \u001b[38;5;241m=\u001b[39m \u001b[43mcompare_gaussian_splat_to_lidar\u001b[49m\u001b[43m(\u001b[49m\u001b[43mgaussian_all_path\u001b[49m\u001b[43m,\u001b[49m\u001b[43m \u001b[49m\u001b[43mlidar_path\u001b[49m\u001b[43m,\u001b[49m\u001b[43m \u001b[49m\u001b[43mmethod\u001b[49m\u001b[38;5;241;43m=\u001b[39;49m\u001b[43mmetric\u001b[49m\u001b[43m)\u001b[49m\n\u001b[1;32m      6\u001b[0m     \u001b[38;5;28mprint\u001b[39m(\u001b[38;5;124mf\u001b[39m\u001b[38;5;124m\"\u001b[39m\u001b[38;5;132;01m{\u001b[39;00mmetric\u001b[38;5;132;01m}\u001b[39;00m\u001b[38;5;124m distance: \u001b[39m\u001b[38;5;132;01m{\u001b[39;00mdistance\u001b[38;5;132;01m}\u001b[39;00m\u001b[38;5;124m\"\u001b[39m)\n\u001b[1;32m      7\u001b[0m     distances_all\u001b[38;5;241m.\u001b[39mappend(distance)\n",
      "File \u001b[0;32m/mnt/d/School/Research/rgb-ir-3d-reconstruction/ply_loader.py:117\u001b[0m, in \u001b[0;36mcompare_gaussian_splat_to_lidar\u001b[0;34m(gaussian_ply_path, lidar_ply_path, method)\u001b[0m\n\u001b[1;32m    114\u001b[0m covariances \u001b[38;5;241m=\u001b[39m covariances[valid_indices]\n\u001b[1;32m    116\u001b[0m \u001b[38;5;66;03m# Use the comparison function from the previous implementation\u001b[39;00m\n\u001b[0;32m--> 117\u001b[0m distance \u001b[38;5;241m=\u001b[39m \u001b[43mcompare_pointcloud_to_gaussians\u001b[49m\u001b[43m(\u001b[49m\u001b[43mpoints\u001b[49m\u001b[43m,\u001b[49m\u001b[43m \u001b[49m\u001b[43mpositions\u001b[49m\u001b[43m,\u001b[49m\u001b[43m \u001b[49m\u001b[43mcovariances\u001b[49m\u001b[43m,\u001b[49m\u001b[43m \u001b[49m\u001b[43mmethod\u001b[49m\u001b[38;5;241;43m=\u001b[39;49m\u001b[43mmethod\u001b[49m\u001b[43m)\u001b[49m\n\u001b[1;32m    119\u001b[0m \u001b[38;5;28;01mreturn\u001b[39;00m distance\n",
      "File \u001b[0;32m/mnt/d/School/Research/rgb-ir-3d-reconstruction/pointcloud_gaussian_comparison.py:132\u001b[0m, in \u001b[0;36mcompare_pointcloud_to_gaussians\u001b[0;34m(pointcloud, gaussians, covariances, method)\u001b[0m\n\u001b[1;32m    130\u001b[0m     \u001b[38;5;28mprint\u001b[39m(\u001b[38;5;124m'\u001b[39m\u001b[38;5;124mCalculating chamfer distance\u001b[39m\u001b[38;5;124m'\u001b[39m)\n\u001b[1;32m    131\u001b[0m     \u001b[38;5;66;03m# Use memory-efficient Chamfer distance implementation\u001b[39;00m\n\u001b[0;32m--> 132\u001b[0m     distance \u001b[38;5;241m=\u001b[39m \u001b[43mbatch_chamfer_distance\u001b[49m\u001b[43m(\u001b[49m\u001b[43mpointcloud\u001b[49m\u001b[43m,\u001b[49m\u001b[43m \u001b[49m\u001b[43mgaussians\u001b[49m\u001b[43m,\u001b[49m\u001b[43m \u001b[49m\u001b[43mcovariances\u001b[49m\u001b[43m)\u001b[49m\n\u001b[1;32m    134\u001b[0m \u001b[38;5;28;01melif\u001b[39;00m method \u001b[38;5;241m==\u001b[39m \u001b[38;5;124m'\u001b[39m\u001b[38;5;124memd\u001b[39m\u001b[38;5;124m'\u001b[39m:\n\u001b[1;32m    135\u001b[0m     \u001b[38;5;28mprint\u001b[39m(\u001b[38;5;124m'\u001b[39m\u001b[38;5;124mEarth Mover\u001b[39m\u001b[38;5;130;01m\\'\u001b[39;00m\u001b[38;5;124ms Distance\u001b[39m\u001b[38;5;124m'\u001b[39m)\n",
      "File \u001b[0;32m/mnt/d/School/Research/rgb-ir-3d-reconstruction/pointcloud_gaussian_comparison.py:42\u001b[0m, in \u001b[0;36mbatch_chamfer_distance\u001b[0;34m(pointcloud, gaussians, covariances, batch_size)\u001b[0m\n\u001b[1;32m     39\u001b[0m weights \u001b[38;5;241m=\u001b[39m np\u001b[38;5;241m.\u001b[39marray([np\u001b[38;5;241m.\u001b[39mlinalg\u001b[38;5;241m.\u001b[39mdet(cov) \u001b[38;5;28;01mfor\u001b[39;00m cov \u001b[38;5;129;01min\u001b[39;00m covariances])\n\u001b[1;32m     40\u001b[0m weights \u001b[38;5;241m=\u001b[39m weights \u001b[38;5;241m/\u001b[39m weights\u001b[38;5;241m.\u001b[39msum()\n\u001b[0;32m---> 42\u001b[0m \u001b[38;5;28;01mreturn\u001b[39;00m np\u001b[38;5;241m.\u001b[39mmean(distances_pc_to_gaussian) \u001b[38;5;241m+\u001b[39m np\u001b[38;5;241m.\u001b[39msum(\u001b[43mdistances_gaussian_to_pc\u001b[49m\u001b[43m \u001b[49m\u001b[38;5;241;43m*\u001b[39;49m\u001b[43m \u001b[49m\u001b[43mweights\u001b[49m)\n",
      "\u001b[0;31mMemoryError\u001b[0m: Unable to allocate 995. GiB for an array with shape (365358, 365358) and data type float64"
     ]
    }
   ],
   "source": [
    "# Compare using different metrics\n",
    "metrics = ['optimal_transport', 'chamfer', 'emd']\n",
    "distances_all = []\n",
    "for metric in metrics:\n",
    "    distance = compare_gaussian_splat_to_lidar(gaussian_all_path, lidar_path, method=metric)\n",
    "    print(f\"{metric} distance: {distance}\")\n",
    "    distances_all.append(distance)"
   ]
  },
  {
   "cell_type": "code",
   "execution_count": null,
   "metadata": {},
   "outputs": [],
   "source": [
    "# Compare using different metrics\n",
    "metrics = ['optimal_transport', 'chamfer', 'emd']\n",
    "distances_rgb = []\n",
    "for metric in metrics:\n",
    "    distance = compare_gaussian_splat_to_lidar(gaussian_rgb_path, lidar_path, method=metric)\n",
    "    print(f\"{metric} distance: {distance}\")\n",
    "    distances_rgb.append(distance)"
   ]
  },
  {
   "cell_type": "code",
   "execution_count": null,
   "metadata": {},
   "outputs": [],
   "source": []
  }
 ],
 "metadata": {
  "kernelspec": {
   "display_name": "cv",
   "language": "python",
   "name": "python3"
  },
  "language_info": {
   "codemirror_mode": {
    "name": "ipython",
    "version": 3
   },
   "file_extension": ".py",
   "mimetype": "text/x-python",
   "name": "python",
   "nbconvert_exporter": "python",
   "pygments_lexer": "ipython3",
   "version": "3.11.4"
  }
 },
 "nbformat": 4,
 "nbformat_minor": 2
}
